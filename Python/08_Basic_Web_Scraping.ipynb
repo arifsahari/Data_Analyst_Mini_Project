{
 "cells": [
  {
   "cell_type": "markdown",
   "metadata": {},
   "source": [
    "#### **Scraping website from most common website for scraping**\n",
    "\n",
    "Website :\n",
    "- *bookstoscrape.com*\n"
   ]
  },
  {
   "cell_type": "markdown",
   "metadata": {},
   "source": [
    "#### Scrapy"
   ]
  },
  {
   "cell_type": "code",
   "execution_count": 13,
   "metadata": {},
   "outputs": [],
   "source": [
    "import scrapy\n",
    "from scrapy import cmdline\n",
    "import schedule\n",
    "import time"
   ]
  },
  {
   "cell_type": "code",
   "execution_count": null,
   "metadata": {},
   "outputs": [],
   "source": [
    "# run scrapy in terminal CMD\n",
    "\n",
    "# change directory to folder where 'spider' folder located\n",
    "cd scrapy_project\n",
    "cd folder_contain_scrapy_project\n",
    "\n",
    "# create venv\n",
    "python -m venv env\n",
    "\n",
    "# install scrapy\n",
    "pip install scrapy\n",
    "\n",
    "# activate env\n",
    "env\\Scripts\\activate.bat\n",
    "env\\Scripts\\activate\n",
    "\n",
    "# run script\n",
    "!scrapy crawl books"
   ]
  },
  {
   "cell_type": "code",
   "execution_count": 24,
   "metadata": {},
   "outputs": [],
   "source": [
    "!python -m venv env\n"
   ]
  },
  {
   "cell_type": "code",
   "execution_count": 12,
   "metadata": {},
   "outputs": [],
   "source": [
    "def crawl():\n",
    "  cmdline.execute('scrapy crawl scraper.py'.split())"
   ]
  },
  {
   "cell_type": "code",
   "execution_count": null,
   "metadata": {},
   "outputs": [
    {
     "ename": "KeyboardInterrupt",
     "evalue": "",
     "output_type": "error",
     "traceback": [
      "\u001b[1;31m---------------------------------------------------------------------------\u001b[0m",
      "\u001b[1;31mKeyboardInterrupt\u001b[0m                         Traceback (most recent call last)",
      "Cell \u001b[1;32mIn[4], line 5\u001b[0m\n\u001b[0;32m      3\u001b[0m \u001b[38;5;28;01mwhile\u001b[39;00m \u001b[38;5;28;01mTrue\u001b[39;00m:\n\u001b[0;32m      4\u001b[0m   schedule\u001b[38;5;241m.\u001b[39mrun_pending()\n\u001b[1;32m----> 5\u001b[0m   \u001b[43mtime\u001b[49m\u001b[38;5;241;43m.\u001b[39;49m\u001b[43msleep\u001b[49m\u001b[43m(\u001b[49m\u001b[38;5;241;43m1\u001b[39;49m\u001b[43m)\u001b[49m\n",
      "\u001b[1;31mKeyboardInterrupt\u001b[0m: "
     ]
    }
   ],
   "source": [
    "schedule.every(3).minutes.do(crawl)\n",
    "\n",
    "# while True:\n",
    "#   schedule.run_pending()\n",
    "#   time.sleep(1)"
   ]
  },
  {
   "cell_type": "code",
   "execution_count": 9,
   "metadata": {},
   "outputs": [
    {
     "data": {
      "text/plain": [
       "Every 30 seconds do crawl_wiki() (last run: [never], next run: 2024-11-29 21:18:12)"
      ]
     },
     "execution_count": 9,
     "metadata": {},
     "output_type": "execute_result"
    }
   ],
   "source": [
    "# function to run the spider\n",
    "def crawl_wiki():\n",
    "    cmdline.execute(\"scrapy runspider WikiSpider.py\".split())\n",
    "\n",
    "# schedule the spider to run every 30 seconds\n",
    "schedule.every(30).seconds.do(crawl_wiki)"
   ]
  },
  {
   "cell_type": "markdown",
   "metadata": {},
   "source": [
    "#### <hr>"
   ]
  },
  {
   "cell_type": "markdown",
   "metadata": {},
   "source": [
    "#### BeautifulSoup (BS4)"
   ]
  },
  {
   "cell_type": "code",
   "execution_count": 95,
   "metadata": {},
   "outputs": [],
   "source": [
    "# import libraries\n",
    "import pandas as pd\n",
    "import requests\n",
    "from bs4 import BeautifulSoup\n",
    "import time"
   ]
  },
  {
   "cell_type": "code",
   "execution_count": 3,
   "metadata": {},
   "outputs": [
    {
     "name": "stdout",
     "output_type": "stream",
     "text": [
      "Status Okey\n"
     ]
    }
   ],
   "source": [
    "# get url and send GET request\n",
    "url1 = 'https://books.toscrape.com/'\n",
    "url2 = 'https://books.toscrape.com/catalogue/page-1.html'\n",
    "\n",
    "# method #1\n",
    "get_url1 = requests.get(url1)\n",
    "if get_url1.status_code == 200:\n",
    "  print('Status Okey')\n",
    "else: print('Status Failed')\n",
    "\n",
    "# parse html content\n",
    "soup1 = BeautifulSoup(get_url1.content,'html.parser')\n",
    "\n",
    "# method #2\n",
    "get_url2 = requests.get(url2)\n",
    "get_url2 = get_url2.content\n",
    "\n",
    "# parse html content\n",
    "soup2 = BeautifulSoup(get_url2,'html.parser')"
   ]
  },
  {
   "cell_type": "code",
   "execution_count": 39,
   "metadata": {},
   "outputs": [
    {
     "data": {
      "text/plain": [
       "b'<!DOCTYPE html>\\n<!--[if lt IE 7]>      <html lang=\"en-us\" class=\"no-js lt-ie9 lt-ie8 lt-ie7\"> <![endif]-->\\n<!--[if IE 7]>         <html lang=\"en-us\" class=\"no-js lt-ie9 lt-ie8\"> <![endif]-->\\n<!--[if IE 8]>         <html lang=\"en-us\" class=\"no-js lt-ie9\"> <![endif]-->\\n<!--[if gt IE 8]><!--> <html lang=\"en-us\" class=\"no-js\"> <!--<![endif]-->\\n    <head>\\n        <title>\\n    All products | Books to Scrape - Sandbox\\n</title>\\n\\n        <meta http-equiv=\"content-type\" content=\"text/html; charset=UTF-8\" />\\n        <meta name=\"created\" content=\"24th Jun 2016 09:29\" />\\n        <meta name=\"description\" content=\"\" />\\n        <meta name=\"viewport\" content=\"width=device-width\" />\\n        <meta name=\"robots\" content=\"NOARCHIVE,NOCACHE\" />\\n\\n        <!-- Le HTML5 shim, for IE6-8 support of HTML elements -->\\n        <!--[if lt IE 9]>\\n        <script src=\"//html5shim.googlecode.com/svn/trunk/html5.js\"></script>\\n        <![endif]-->\\n\\n        \\n            <link rel=\"shortcut icon\" href=\"static/oscar/favicon.ico\" />\\n        \\n\\n        \\n        \\n    \\n    \\n        <link rel=\"stylesheet\" type=\"text/css\" href=\"static/oscar/css/styles.css\" />\\n    \\n    <link rel=\"stylesheet\" href=\"static/oscar/js/bootstrap-datetimepicker/bootstrap-datetimepicker.css\" />\\n    <link rel=\"stylesheet\" type=\"text/css\" href=\"static/oscar/css/datetimepicker.css\" />\\n\\n\\n        \\n        \\n\\n        \\n\\n        \\n            \\n            \\n\\n        \\n    </head>\\n\\n    <body id=\"default\" class=\"default\">\\n        \\n        \\n    \\n    \\n    <header class=\"header container-fluid\">\\n        <div class=\"page_inner\">\\n            <div class=\"row\">\\n                <div class=\"col-sm-8 h1\"><a href=\"index.html\">Books to Scrape</a><small> We love being scraped!</small>\\n</div>\\n\\n                \\n            </div>\\n        </div>\\n    </header>\\n\\n    \\n    \\n<div class=\"container-fluid page\">\\n    <div class=\"page_inner\">\\n        \\n    <ul class=\"breadcrumb\">\\n        <li>\\n            <a href=\"index.html\">Home</a>\\n        </li>\\n        <li class=\"active\">All products</li>\\n    </ul>\\n\\n        <div class=\"row\">\\n\\n            <aside class=\"sidebar col-sm-4 col-md-3\">\\n                \\n                <div id=\"promotions_left\">\\n                    \\n                </div>\\n                \\n    \\n    \\n        \\n        <div class=\"side_categories\">\\n            <ul class=\"nav nav-list\">\\n                \\n                    <li>\\n                        <a href=\"catalogue/category/books_1/index.html\">\\n                            \\n                                Books\\n                            \\n                        </a>\\n\\n                        <ul>\\n                        \\n                \\n                    <li>\\n                        <a href=\"catalogue/category/books/travel_2/index.html\">\\n                            \\n                                Travel\\n                            \\n                        </a>\\n\\n                        </li>\\n                        \\n                \\n                    <li>\\n                        <a href=\"catalogue/category/books/mystery_3/index.html\">\\n                            \\n                                Mystery\\n                            \\n                        </a>\\n\\n                        </li>\\n                        \\n                \\n                    <li>\\n                        <a href=\"catalogue/category/books/historical-fiction_4/index.html\">\\n                            \\n                                Historical Fiction\\n                            \\n                        </a>\\n\\n                        </li>\\n                        \\n                \\n                    <li>\\n                        <a href=\"catalogue/category/books/sequential-art_5/index.html\">\\n                            \\n                                Sequential Art\\n                            \\n                        </a>\\n\\n                        </li>\\n                        \\n                \\n                    <li>\\n                        <a href=\"catalogue/category/books/classics_6/index.html\">\\n                            \\n                                Classics\\n                            \\n                        </a>\\n\\n                        </li>\\n                        \\n                \\n                    <li>\\n                        <a href=\"catalogue/category/books/philosophy_7/index.html\">\\n                            \\n                                Philosophy\\n                            \\n                        </a>\\n\\n                        </li>\\n                        \\n                \\n                    <li>\\n                        <a href=\"catalogue/category/books/romance_8/index.html\">\\n                            \\n                                Romance\\n                            \\n                        </a>\\n\\n                        </li>\\n                        \\n                \\n                    <li>\\n                        <a href=\"catalogue/category/books/womens-fiction_9/index.html\">\\n                            \\n                                Womens Fiction\\n                            \\n                        </a>\\n\\n                        </li>\\n                        \\n                \\n                    <li>\\n                        <a href=\"catalogue/category/books/fiction_10/index.html\">\\n                            \\n                                Fiction\\n                            \\n                        </a>\\n\\n                        </li>\\n                        \\n                \\n                    <li>\\n                        <a href=\"catalogue/category/books/childrens_11/index.html\">\\n                            \\n                                Childrens\\n                            \\n                        </a>\\n\\n                        </li>\\n                        \\n                \\n                    <li>\\n                        <a href=\"catalogue/category/books/religion_12/index.html\">\\n                            \\n                                Religion\\n                            \\n                        </a>\\n\\n                        </li>\\n                        \\n                \\n                    <li>\\n                        <a href=\"catalogue/category/books/nonfiction_13/index.html\">\\n                            \\n                                Nonfiction\\n                            \\n                        </a>\\n\\n                        </li>\\n                        \\n                \\n                    <li>\\n                        <a href=\"catalogue/category/books/music_14/index.html\">\\n                            \\n                                Music\\n                            \\n                        </a>\\n\\n                        </li>\\n                        \\n                \\n                    <li>\\n                        <a href=\"catalogue/category/books/default_15/index.html\">\\n                            \\n                                Default\\n                            \\n                        </a>\\n\\n                        </li>\\n                        \\n                \\n                    <li>\\n                        <a href=\"catalogue/category/books/science-fiction_16/index.html\">\\n                            \\n                                Science Fiction\\n                            \\n                        </a>\\n\\n                        </li>\\n                        \\n                \\n                    <li>\\n                        <a href=\"catalogue/category/books/sports-and-games_17/index.html\">\\n                            \\n                                Sports and Games\\n                            \\n                        </a>\\n\\n                        </li>\\n                        \\n                \\n                    <li>\\n                        <a href=\"catalogue/category/books/add-a-comment_18/index.html\">\\n                            \\n                                Add a comment\\n                            \\n                        </a>\\n\\n                        </li>\\n                        \\n                \\n                    <li>\\n                        <a href=\"catalogue/category/books/fantasy_19/index.html\">\\n                            \\n                                Fantasy\\n                            \\n                        </a>\\n\\n                        </li>\\n                        \\n                \\n                    <li>\\n                        <a href=\"catalogue/category/books/new-adult_20/index.html\">\\n                            \\n                                New Adult\\n                            \\n                        </a>\\n\\n                        </li>\\n                        \\n                \\n                    <li>\\n                        <a href=\"catalogue/category/books/young-adult_21/index.html\">\\n                            \\n                                Young Adult\\n                            \\n                        </a>\\n\\n                        </li>\\n                        \\n                \\n                    <li>\\n                        <a href=\"catalogue/category/books/science_22/index.html\">\\n                            \\n                                Science\\n                            \\n                        </a>\\n\\n                        </li>\\n                        \\n                \\n                    <li>\\n                        <a href=\"catalogue/category/books/poetry_23/index.html\">\\n                            \\n                                Poetry\\n                            \\n                        </a>\\n\\n                        </li>\\n                        \\n                \\n                    <li>\\n                        <a href=\"catalogue/category/books/paranormal_24/index.html\">\\n                            \\n                                Paranormal\\n                            \\n                        </a>\\n\\n                        </li>\\n                        \\n                \\n                    <li>\\n                        <a href=\"catalogue/category/books/art_25/index.html\">\\n                            \\n                                Art\\n                            \\n                        </a>\\n\\n                        </li>\\n                        \\n                \\n                    <li>\\n                        <a href=\"catalogue/category/books/psychology_26/index.html\">\\n                            \\n                                Psychology\\n                            \\n                        </a>\\n\\n                        </li>\\n                        \\n                \\n                    <li>\\n                        <a href=\"catalogue/category/books/autobiography_27/index.html\">\\n                            \\n                                Autobiography\\n                            \\n                        </a>\\n\\n                        </li>\\n                        \\n                \\n                    <li>\\n                        <a href=\"catalogue/category/books/parenting_28/index.html\">\\n                            \\n                                Parenting\\n                            \\n                        </a>\\n\\n                        </li>\\n                        \\n                \\n                    <li>\\n                        <a href=\"catalogue/category/books/adult-fiction_29/index.html\">\\n                            \\n                                Adult Fiction\\n                            \\n                        </a>\\n\\n                        </li>\\n                        \\n                \\n                    <li>\\n                        <a href=\"catalogue/category/books/humor_30/index.html\">\\n                            \\n                                Humor\\n                            \\n                        </a>\\n\\n                        </li>\\n                        \\n                \\n                    <li>\\n                        <a href=\"catalogue/category/books/horror_31/index.html\">\\n                            \\n                                Horror\\n                            \\n                        </a>\\n\\n                        </li>\\n                        \\n                \\n                    <li>\\n                        <a href=\"catalogue/category/books/history_32/index.html\">\\n                            \\n                                History\\n                            \\n                        </a>\\n\\n                        </li>\\n                        \\n                \\n                    <li>\\n                        <a href=\"catalogue/category/books/food-and-drink_33/index.html\">\\n                            \\n                                Food and Drink\\n                            \\n                        </a>\\n\\n                        </li>\\n                        \\n                \\n                    <li>\\n                        <a href=\"catalogue/category/books/christian-fiction_34/index.html\">\\n                            \\n                                Christian Fiction\\n                            \\n                        </a>\\n\\n                        </li>\\n                        \\n                \\n                    <li>\\n                        <a href=\"catalogue/category/books/business_35/index.html\">\\n                            \\n                                Business\\n                            \\n                        </a>\\n\\n                        </li>\\n                        \\n                \\n                    <li>\\n                        <a href=\"catalogue/category/books/biography_36/index.html\">\\n                            \\n                                Biography\\n                            \\n                        </a>\\n\\n                        </li>\\n                        \\n                \\n                    <li>\\n                        <a href=\"catalogue/category/books/thriller_37/index.html\">\\n                            \\n                                Thriller\\n                            \\n                        </a>\\n\\n                        </li>\\n                        \\n                \\n                    <li>\\n                        <a href=\"catalogue/category/books/contemporary_38/index.html\">\\n                            \\n                                Contemporary\\n                            \\n                        </a>\\n\\n                        </li>\\n                        \\n                \\n                    <li>\\n                        <a href=\"catalogue/category/books/spirituality_39/index.html\">\\n                            \\n                                Spirituality\\n                            \\n                        </a>\\n\\n                        </li>\\n                        \\n                \\n                    <li>\\n                        <a href=\"catalogue/category/books/academic_40/index.html\">\\n                            \\n                                Academic\\n                            \\n                        </a>\\n\\n                        </li>\\n                        \\n                \\n                    <li>\\n                        <a href=\"catalogue/category/books/self-help_41/index.html\">\\n                            \\n                                Self Help\\n                            \\n                        </a>\\n\\n                        </li>\\n                        \\n                \\n                    <li>\\n                        <a href=\"catalogue/category/books/historical_42/index.html\">\\n                            \\n                                Historical\\n                            \\n                        </a>\\n\\n                        </li>\\n                        \\n                \\n                    <li>\\n                        <a href=\"catalogue/category/books/christian_43/index.html\">\\n                            \\n                                Christian\\n                            \\n                        </a>\\n\\n                        </li>\\n                        \\n                \\n                    <li>\\n                        <a href=\"catalogue/category/books/suspense_44/index.html\">\\n                            \\n                                Suspense\\n                            \\n                        </a>\\n\\n                        </li>\\n                        \\n                \\n                    <li>\\n                        <a href=\"catalogue/category/books/short-stories_45/index.html\">\\n                            \\n                                Short Stories\\n                            \\n                        </a>\\n\\n                        </li>\\n                        \\n                \\n                    <li>\\n                        <a href=\"catalogue/category/books/novels_46/index.html\">\\n                            \\n                                Novels\\n                            \\n                        </a>\\n\\n                        </li>\\n                        \\n                \\n                    <li>\\n                        <a href=\"catalogue/category/books/health_47/index.html\">\\n                            \\n                                Health\\n                            \\n                        </a>\\n\\n                        </li>\\n                        \\n                \\n                    <li>\\n                        <a href=\"catalogue/category/books/politics_48/index.html\">\\n                            \\n                                Politics\\n                            \\n                        </a>\\n\\n                        </li>\\n                        \\n                \\n                    <li>\\n                        <a href=\"catalogue/category/books/cultural_49/index.html\">\\n                            \\n                                Cultural\\n                            \\n                        </a>\\n\\n                        </li>\\n                        \\n                \\n                    <li>\\n                        <a href=\"catalogue/category/books/erotica_50/index.html\">\\n                            \\n                                Erotica\\n                            \\n                        </a>\\n\\n                        </li>\\n                        \\n                \\n                    <li>\\n                        <a href=\"catalogue/category/books/crime_51/index.html\">\\n                            \\n                                Crime\\n                            \\n                        </a>\\n\\n                        </li>\\n                        \\n                            </ul></li>\\n                        \\n                \\n            </ul>\\n        </div>\\n    \\n    \\n\\n            </aside>\\n\\n            <div class=\"col-sm-8 col-md-9\">\\n                \\n                <div class=\"page-header action\">\\n                    <h1>All products</h1>\\n                </div>\\n                \\n\\n                \\n\\n\\n\\n<div id=\"messages\">\\n\\n</div>\\n\\n\\n                <div id=\"promotions\">\\n                    \\n                </div>\\n\\n                \\n    <form method=\"get\" class=\"form-horizontal\">\\n        \\n        <div style=\"display:none\">\\n            \\n            \\n        </div>\\n\\n        \\n            \\n                \\n                    <strong>1000</strong> results - showing <strong>1</strong> to <strong>20</strong>.\\n                \\n            \\n            \\n        \\n    </form>\\n    \\n        <section>\\n            <div class=\"alert alert-warning\" role=\"alert\"><strong>Warning!</strong> This is a demo website for web scraping purposes. Prices and ratings here were randomly assigned and have no real meaning.</div>\\n\\n            <div>\\n                <ol class=\"row\">\\n                    \\n                        <li class=\"col-xs-6 col-sm-4 col-md-3 col-lg-3\">\\n\\n\\n\\n\\n\\n\\n    <article class=\"product_pod\">\\n        \\n            <div class=\"image_container\">\\n                \\n                    \\n                    <a href=\"catalogue/a-light-in-the-attic_1000/index.html\"><img src=\"media/cache/2c/da/2cdad67c44b002e7ead0cc35693c0e8b.jpg\" alt=\"A Light in the Attic\" class=\"thumbnail\"></a>\\n                    \\n                \\n            </div>\\n        \\n\\n        \\n            \\n                <p class=\"star-rating Three\">\\n                    <i class=\"icon-star\"></i>\\n                    <i class=\"icon-star\"></i>\\n                    <i class=\"icon-star\"></i>\\n                    <i class=\"icon-star\"></i>\\n                    <i class=\"icon-star\"></i>\\n                </p>\\n            \\n        \\n\\n        \\n            <h3><a href=\"catalogue/a-light-in-the-attic_1000/index.html\" title=\"A Light in the Attic\">A Light in the ...</a></h3>\\n        \\n\\n        \\n            <div class=\"product_price\">\\n                \\n\\n\\n\\n\\n\\n\\n    \\n        <p class=\"price_color\">\\xc2\\xa351.77</p>\\n    \\n\\n<p class=\"instock availability\">\\n    <i class=\"icon-ok\"></i>\\n    \\n        In stock\\n    \\n</p>\\n\\n                \\n                    \\n\\n\\n\\n\\n\\n\\n    \\n    <form>\\n        <button type=\"submit\" class=\"btn btn-primary btn-block\" data-loading-text=\"Adding...\">Add to basket</button>\\n    </form>\\n\\n\\n                \\n            </div>\\n        \\n    </article>\\n\\n</li>\\n                    \\n                        <li class=\"col-xs-6 col-sm-4 col-md-3 col-lg-3\">\\n\\n\\n\\n\\n\\n\\n    <article class=\"product_pod\">\\n        \\n            <div class=\"image_container\">\\n                \\n                    \\n                    <a href=\"catalogue/tipping-the-velvet_999/index.html\"><img src=\"media/cache/26/0c/260c6ae16bce31c8f8c95daddd9f4a1c.jpg\" alt=\"Tipping the Velvet\" class=\"thumbnail\"></a>\\n                    \\n                \\n            </div>\\n        \\n\\n        \\n            \\n                <p class=\"star-rating One\">\\n                    <i class=\"icon-star\"></i>\\n                    <i class=\"icon-star\"></i>\\n                    <i class=\"icon-star\"></i>\\n                    <i class=\"icon-star\"></i>\\n                    <i class=\"icon-star\"></i>\\n                </p>\\n            \\n        \\n\\n        \\n            <h3><a href=\"catalogue/tipping-the-velvet_999/index.html\" title=\"Tipping the Velvet\">Tipping the Velvet</a></h3>\\n        \\n\\n        \\n            <div class=\"product_price\">\\n                \\n\\n\\n\\n\\n\\n\\n    \\n        <p class=\"price_color\">\\xc2\\xa353.74</p>\\n    \\n\\n<p class=\"instock availability\">\\n    <i class=\"icon-ok\"></i>\\n    \\n        In stock\\n    \\n</p>\\n\\n                \\n                    \\n\\n\\n\\n\\n\\n\\n    \\n    <form>\\n        <button type=\"submit\" class=\"btn btn-primary btn-block\" data-loading-text=\"Adding...\">Add to basket</button>\\n    </form>\\n\\n\\n                \\n            </div>\\n        \\n    </article>\\n\\n</li>\\n                    \\n                        <li class=\"col-xs-6 col-sm-4 col-md-3 col-lg-3\">\\n\\n\\n\\n\\n\\n\\n    <article class=\"product_pod\">\\n        \\n            <div class=\"image_container\">\\n                \\n                    \\n                    <a href=\"catalogue/soumission_998/index.html\"><img src=\"media/cache/3e/ef/3eef99c9d9adef34639f510662022830.jpg\" alt=\"Soumission\" class=\"thumbnail\"></a>\\n                    \\n                \\n            </div>\\n        \\n\\n        \\n            \\n                <p class=\"star-rating One\">\\n                    <i class=\"icon-star\"></i>\\n                    <i class=\"icon-star\"></i>\\n                    <i class=\"icon-star\"></i>\\n                    <i class=\"icon-star\"></i>\\n                    <i class=\"icon-star\"></i>\\n                </p>\\n            \\n        \\n\\n        \\n            <h3><a href=\"catalogue/soumission_998/index.html\" title=\"Soumission\">Soumission</a></h3>\\n        \\n\\n        \\n            <div class=\"product_price\">\\n                \\n\\n\\n\\n\\n\\n\\n    \\n        <p class=\"price_color\">\\xc2\\xa350.10</p>\\n    \\n\\n<p class=\"instock availability\">\\n    <i class=\"icon-ok\"></i>\\n    \\n        In stock\\n    \\n</p>\\n\\n                \\n                    \\n\\n\\n\\n\\n\\n\\n    \\n    <form>\\n        <button type=\"submit\" class=\"btn btn-primary btn-block\" data-loading-text=\"Adding...\">Add to basket</button>\\n    </form>\\n\\n\\n                \\n            </div>\\n        \\n    </article>\\n\\n</li>\\n                    \\n                        <li class=\"col-xs-6 col-sm-4 col-md-3 col-lg-3\">\\n\\n\\n\\n\\n\\n\\n    <article class=\"product_pod\">\\n        \\n            <div class=\"image_container\">\\n                \\n                    \\n                    <a href=\"catalogue/sharp-objects_997/index.html\"><img src=\"media/cache/32/51/3251cf3a3412f53f339e42cac2134093.jpg\" alt=\"Sharp Objects\" class=\"thumbnail\"></a>\\n                    \\n                \\n            </div>\\n        \\n\\n        \\n            \\n                <p class=\"star-rating Four\">\\n                    <i class=\"icon-star\"></i>\\n                    <i class=\"icon-star\"></i>\\n                    <i class=\"icon-star\"></i>\\n                    <i class=\"icon-star\"></i>\\n                    <i class=\"icon-star\"></i>\\n                </p>\\n            \\n        \\n\\n        \\n            <h3><a href=\"catalogue/sharp-objects_997/index.html\" title=\"Sharp Objects\">Sharp Objects</a></h3>\\n        \\n\\n        \\n            <div class=\"product_price\">\\n                \\n\\n\\n\\n\\n\\n\\n    \\n        <p class=\"price_color\">\\xc2\\xa347.82</p>\\n    \\n\\n<p class=\"instock availability\">\\n    <i class=\"icon-ok\"></i>\\n    \\n        In stock\\n    \\n</p>\\n\\n                \\n                    \\n\\n\\n\\n\\n\\n\\n    \\n    <form>\\n        <button type=\"submit\" class=\"btn btn-primary btn-block\" data-loading-text=\"Adding...\">Add to basket</button>\\n    </form>\\n\\n\\n                \\n            </div>\\n        \\n    </article>\\n\\n</li>\\n                    \\n                        <li class=\"col-xs-6 col-sm-4 col-md-3 col-lg-3\">\\n\\n\\n\\n\\n\\n\\n    <article class=\"product_pod\">\\n        \\n            <div class=\"image_container\">\\n                \\n                    \\n                    <a href=\"catalogue/sapiens-a-brief-history-of-humankind_996/index.html\"><img src=\"media/cache/be/a5/bea5697f2534a2f86a3ef27b5a8c12a6.jpg\" alt=\"Sapiens: A Brief History of Humankind\" class=\"thumbnail\"></a>\\n                    \\n                \\n            </div>\\n        \\n\\n        \\n            \\n                <p class=\"star-rating Five\">\\n                    <i class=\"icon-star\"></i>\\n                    <i class=\"icon-star\"></i>\\n                    <i class=\"icon-star\"></i>\\n                    <i class=\"icon-star\"></i>\\n                    <i class=\"icon-star\"></i>\\n                </p>\\n            \\n        \\n\\n        \\n            <h3><a href=\"catalogue/sapiens-a-brief-history-of-humankind_996/index.html\" title=\"Sapiens: A Brief History of Humankind\">Sapiens: A Brief History ...</a></h3>\\n        \\n\\n        \\n            <div class=\"product_price\">\\n                \\n\\n\\n\\n\\n\\n\\n    \\n        <p class=\"price_color\">\\xc2\\xa354.23</p>\\n    \\n\\n<p class=\"instock availability\">\\n    <i class=\"icon-ok\"></i>\\n    \\n        In stock\\n    \\n</p>\\n\\n                \\n                    \\n\\n\\n\\n\\n\\n\\n    \\n    <form>\\n        <button type=\"submit\" class=\"btn btn-primary btn-block\" data-loading-text=\"Adding...\">Add to basket</button>\\n    </form>\\n\\n\\n                \\n            </div>\\n        \\n    </article>\\n\\n</li>\\n                    \\n                        <li class=\"col-xs-6 col-sm-4 col-md-3 col-lg-3\">\\n\\n\\n\\n\\n\\n\\n    <article class=\"product_pod\">\\n        \\n            <div class=\"image_container\">\\n                \\n                    \\n                    <a href=\"catalogue/the-requiem-red_995/index.html\"><img src=\"media/cache/68/33/68339b4c9bc034267e1da611ab3b34f8.jpg\" alt=\"The Requiem Red\" class=\"thumbnail\"></a>\\n                    \\n                \\n            </div>\\n        \\n\\n        \\n            \\n                <p class=\"star-rating One\">\\n                    <i class=\"icon-star\"></i>\\n                    <i class=\"icon-star\"></i>\\n                    <i class=\"icon-star\"></i>\\n                    <i class=\"icon-star\"></i>\\n                    <i class=\"icon-star\"></i>\\n                </p>\\n            \\n        \\n\\n        \\n            <h3><a href=\"catalogue/the-requiem-red_995/index.html\" title=\"The Requiem Red\">The Requiem Red</a></h3>\\n        \\n\\n        \\n            <div class=\"product_price\">\\n                \\n\\n\\n\\n\\n\\n\\n    \\n        <p class=\"price_color\">\\xc2\\xa322.65</p>\\n    \\n\\n<p class=\"instock availability\">\\n    <i class=\"icon-ok\"></i>\\n    \\n        In stock\\n    \\n</p>\\n\\n                \\n                    \\n\\n\\n\\n\\n\\n\\n    \\n    <form>\\n        <button type=\"submit\" class=\"btn btn-primary btn-block\" data-loading-text=\"Adding...\">Add to basket</button>\\n    </form>\\n\\n\\n                \\n            </div>\\n        \\n    </article>\\n\\n</li>\\n                    \\n                        <li class=\"col-xs-6 col-sm-4 col-md-3 col-lg-3\">\\n\\n\\n\\n\\n\\n\\n    <article class=\"product_pod\">\\n        \\n            <div class=\"image_container\">\\n                \\n                    \\n                    <a href=\"catalogue/the-dirty-little-secrets-of-getting-your-dream-job_994/index.html\"><img src=\"media/cache/92/27/92274a95b7c251fea59a2b8a78275ab4.jpg\" alt=\"The Dirty Little Secrets of Getting Your Dream Job\" class=\"thumbnail\"></a>\\n                    \\n                \\n            </div>\\n        \\n\\n        \\n            \\n                <p class=\"star-rating Four\">\\n                    <i class=\"icon-star\"></i>\\n                    <i class=\"icon-star\"></i>\\n                    <i class=\"icon-star\"></i>\\n                    <i class=\"icon-star\"></i>\\n                    <i class=\"icon-star\"></i>\\n                </p>\\n            \\n        \\n\\n        \\n            <h3><a href=\"catalogue/the-dirty-little-secrets-of-getting-your-dream-job_994/index.html\" title=\"The Dirty Little Secrets of Getting Your Dream Job\">The Dirty Little Secrets ...</a></h3>\\n        \\n\\n        \\n            <div class=\"product_price\">\\n                \\n\\n\\n\\n\\n\\n\\n    \\n        <p class=\"price_color\">\\xc2\\xa333.34</p>\\n    \\n\\n<p class=\"instock availability\">\\n    <i class=\"icon-ok\"></i>\\n    \\n        In stock\\n    \\n</p>\\n\\n                \\n                    \\n\\n\\n\\n\\n\\n\\n    \\n    <form>\\n        <button type=\"submit\" class=\"btn btn-primary btn-block\" data-loading-text=\"Adding...\">Add to basket</button>\\n    </form>\\n\\n\\n                \\n            </div>\\n        \\n    </article>\\n\\n</li>\\n                    \\n                        <li class=\"col-xs-6 col-sm-4 col-md-3 col-lg-3\">\\n\\n\\n\\n\\n\\n\\n    <article class=\"product_pod\">\\n        \\n            <div class=\"image_container\">\\n                \\n                    \\n                    <a href=\"catalogue/the-coming-woman-a-novel-based-on-the-life-of-the-infamous-feminist-victoria-woodhull_993/index.html\"><img src=\"media/cache/3d/54/3d54940e57e662c4dd1f3ff00c78cc64.jpg\" alt=\"The Coming Woman: A Novel Based on the Life of the Infamous Feminist, Victoria Woodhull\" class=\"thumbnail\"></a>\\n                    \\n                \\n            </div>\\n        \\n\\n        \\n            \\n                <p class=\"star-rating Three\">\\n                    <i class=\"icon-star\"></i>\\n                    <i class=\"icon-star\"></i>\\n                    <i class=\"icon-star\"></i>\\n                    <i class=\"icon-star\"></i>\\n                    <i class=\"icon-star\"></i>\\n                </p>\\n            \\n        \\n\\n        \\n            <h3><a href=\"catalogue/the-coming-woman-a-novel-based-on-the-life-of-the-infamous-feminist-victoria-woodhull_993/index.html\" title=\"The Coming Woman: A Novel Based on the Life of the Infamous Feminist, Victoria Woodhull\">The Coming Woman: A ...</a></h3>\\n        \\n\\n        \\n            <div class=\"product_price\">\\n                \\n\\n\\n\\n\\n\\n\\n    \\n        <p class=\"price_color\">\\xc2\\xa317.93</p>\\n    \\n\\n<p class=\"instock availability\">\\n    <i class=\"icon-ok\"></i>\\n    \\n        In stock\\n    \\n</p>\\n\\n                \\n                    \\n\\n\\n\\n\\n\\n\\n    \\n    <form>\\n        <button type=\"submit\" class=\"btn btn-primary btn-block\" data-loading-text=\"Adding...\">Add to basket</button>\\n    </form>\\n\\n\\n                \\n            </div>\\n        \\n    </article>\\n\\n</li>\\n                    \\n                        <li class=\"col-xs-6 col-sm-4 col-md-3 col-lg-3\">\\n\\n\\n\\n\\n\\n\\n    <article class=\"product_pod\">\\n        \\n            <div class=\"image_container\">\\n                \\n                    \\n                    <a href=\"catalogue/the-boys-in-the-boat-nine-americans-and-their-epic-quest-for-gold-at-the-1936-berlin-olympics_992/index.html\"><img src=\"media/cache/66/88/66883b91f6804b2323c8369331cb7dd1.jpg\" alt=\"The Boys in the Boat: Nine Americans and Their Epic Quest for Gold at the 1936 Berlin Olympics\" class=\"thumbnail\"></a>\\n                    \\n                \\n            </div>\\n        \\n\\n        \\n            \\n                <p class=\"star-rating Four\">\\n                    <i class=\"icon-star\"></i>\\n                    <i class=\"icon-star\"></i>\\n                    <i class=\"icon-star\"></i>\\n                    <i class=\"icon-star\"></i>\\n                    <i class=\"icon-star\"></i>\\n                </p>\\n            \\n        \\n\\n        \\n            <h3><a href=\"catalogue/the-boys-in-the-boat-nine-americans-and-their-epic-quest-for-gold-at-the-1936-berlin-olympics_992/index.html\" title=\"The Boys in the Boat: Nine Americans and Their Epic Quest for Gold at the 1936 Berlin Olympics\">The Boys in the ...</a></h3>\\n        \\n\\n        \\n            <div class=\"product_price\">\\n                \\n\\n\\n\\n\\n\\n\\n    \\n        <p class=\"price_color\">\\xc2\\xa322.60</p>\\n    \\n\\n<p class=\"instock availability\">\\n    <i class=\"icon-ok\"></i>\\n    \\n        In stock\\n    \\n</p>\\n\\n                \\n                    \\n\\n\\n\\n\\n\\n\\n    \\n    <form>\\n        <button type=\"submit\" class=\"btn btn-primary btn-block\" data-loading-text=\"Adding...\">Add to basket</button>\\n    </form>\\n\\n\\n                \\n            </div>\\n        \\n    </article>\\n\\n</li>\\n                    \\n                        <li class=\"col-xs-6 col-sm-4 col-md-3 col-lg-3\">\\n\\n\\n\\n\\n\\n\\n    <article class=\"product_pod\">\\n        \\n            <div class=\"image_container\">\\n                \\n                    \\n                    <a href=\"catalogue/the-black-maria_991/index.html\"><img src=\"media/cache/58/46/5846057e28022268153beff6d352b06c.jpg\" alt=\"The Black Maria\" class=\"thumbnail\"></a>\\n                    \\n                \\n            </div>\\n        \\n\\n        \\n            \\n                <p class=\"star-rating One\">\\n                    <i class=\"icon-star\"></i>\\n                    <i class=\"icon-star\"></i>\\n                    <i class=\"icon-star\"></i>\\n                    <i class=\"icon-star\"></i>\\n                    <i class=\"icon-star\"></i>\\n                </p>\\n            \\n        \\n\\n        \\n            <h3><a href=\"catalogue/the-black-maria_991/index.html\" title=\"The Black Maria\">The Black Maria</a></h3>\\n        \\n\\n        \\n            <div class=\"product_price\">\\n                \\n\\n\\n\\n\\n\\n\\n    \\n        <p class=\"price_color\">\\xc2\\xa352.15</p>\\n    \\n\\n<p class=\"instock availability\">\\n    <i class=\"icon-ok\"></i>\\n    \\n        In stock\\n    \\n</p>\\n\\n                \\n                    \\n\\n\\n\\n\\n\\n\\n    \\n    <form>\\n        <button type=\"submit\" class=\"btn btn-primary btn-block\" data-loading-text=\"Adding...\">Add to basket</button>\\n    </form>\\n\\n\\n                \\n            </div>\\n        \\n    </article>\\n\\n</li>\\n                    \\n                        <li class=\"col-xs-6 col-sm-4 col-md-3 col-lg-3\">\\n\\n\\n\\n\\n\\n\\n    <article class=\"product_pod\">\\n        \\n            <div class=\"image_container\">\\n                \\n                    \\n                    <a href=\"catalogue/starving-hearts-triangular-trade-trilogy-1_990/index.html\"><img src=\"media/cache/be/f4/bef44da28c98f905a3ebec0b87be8530.jpg\" alt=\"Starving Hearts (Triangular Trade Trilogy, #1)\" class=\"thumbnail\"></a>\\n                    \\n                \\n            </div>\\n        \\n\\n        \\n            \\n                <p class=\"star-rating Two\">\\n                    <i class=\"icon-star\"></i>\\n                    <i class=\"icon-star\"></i>\\n                    <i class=\"icon-star\"></i>\\n                    <i class=\"icon-star\"></i>\\n                    <i class=\"icon-star\"></i>\\n                </p>\\n            \\n        \\n\\n        \\n            <h3><a href=\"catalogue/starving-hearts-triangular-trade-trilogy-1_990/index.html\" title=\"Starving Hearts (Triangular Trade Trilogy, #1)\">Starving Hearts (Triangular Trade ...</a></h3>\\n        \\n\\n        \\n            <div class=\"product_price\">\\n                \\n\\n\\n\\n\\n\\n\\n    \\n        <p class=\"price_color\">\\xc2\\xa313.99</p>\\n    \\n\\n<p class=\"instock availability\">\\n    <i class=\"icon-ok\"></i>\\n    \\n        In stock\\n    \\n</p>\\n\\n                \\n                    \\n\\n\\n\\n\\n\\n\\n    \\n    <form>\\n        <button type=\"submit\" class=\"btn btn-primary btn-block\" data-loading-text=\"Adding...\">Add to basket</button>\\n    </form>\\n\\n\\n                \\n            </div>\\n        \\n    </article>\\n\\n</li>\\n                    \\n                        <li class=\"col-xs-6 col-sm-4 col-md-3 col-lg-3\">\\n\\n\\n\\n\\n\\n\\n    <article class=\"product_pod\">\\n        \\n            <div class=\"image_container\">\\n                \\n                    \\n                    <a href=\"catalogue/shakespeares-sonnets_989/index.html\"><img src=\"media/cache/10/48/1048f63d3b5061cd2f424d20b3f9b666.jpg\" alt=\"Shakespeare&#39;s Sonnets\" class=\"thumbnail\"></a>\\n                    \\n                \\n            </div>\\n        \\n\\n        \\n            \\n                <p class=\"star-rating Four\">\\n                    <i class=\"icon-star\"></i>\\n                    <i class=\"icon-star\"></i>\\n                    <i class=\"icon-star\"></i>\\n                    <i class=\"icon-star\"></i>\\n                    <i class=\"icon-star\"></i>\\n                </p>\\n            \\n        \\n\\n        \\n            <h3><a href=\"catalogue/shakespeares-sonnets_989/index.html\" title=\"Shakespeare&#39;s Sonnets\">Shakespeare&#39;s Sonnets</a></h3>\\n        \\n\\n        \\n            <div class=\"product_price\">\\n                \\n\\n\\n\\n\\n\\n\\n    \\n        <p class=\"price_color\">\\xc2\\xa320.66</p>\\n    \\n\\n<p class=\"instock availability\">\\n    <i class=\"icon-ok\"></i>\\n    \\n        In stock\\n    \\n</p>\\n\\n                \\n                    \\n\\n\\n\\n\\n\\n\\n    \\n    <form>\\n        <button type=\"submit\" class=\"btn btn-primary btn-block\" data-loading-text=\"Adding...\">Add to basket</button>\\n    </form>\\n\\n\\n                \\n            </div>\\n        \\n    </article>\\n\\n</li>\\n                    \\n                        <li class=\"col-xs-6 col-sm-4 col-md-3 col-lg-3\">\\n\\n\\n\\n\\n\\n\\n    <article class=\"product_pod\">\\n        \\n            <div class=\"image_container\">\\n                \\n                    \\n                    <a href=\"catalogue/set-me-free_988/index.html\"><img src=\"media/cache/5b/88/5b88c52633f53cacf162c15f4f823153.jpg\" alt=\"Set Me Free\" class=\"thumbnail\"></a>\\n                    \\n                \\n            </div>\\n        \\n\\n        \\n            \\n                <p class=\"star-rating Five\">\\n                    <i class=\"icon-star\"></i>\\n                    <i class=\"icon-star\"></i>\\n                    <i class=\"icon-star\"></i>\\n                    <i class=\"icon-star\"></i>\\n                    <i class=\"icon-star\"></i>\\n                </p>\\n            \\n        \\n\\n        \\n            <h3><a href=\"catalogue/set-me-free_988/index.html\" title=\"Set Me Free\">Set Me Free</a></h3>\\n        \\n\\n        \\n            <div class=\"product_price\">\\n                \\n\\n\\n\\n\\n\\n\\n    \\n        <p class=\"price_color\">\\xc2\\xa317.46</p>\\n    \\n\\n<p class=\"instock availability\">\\n    <i class=\"icon-ok\"></i>\\n    \\n        In stock\\n    \\n</p>\\n\\n                \\n                    \\n\\n\\n\\n\\n\\n\\n    \\n    <form>\\n        <button type=\"submit\" class=\"btn btn-primary btn-block\" data-loading-text=\"Adding...\">Add to basket</button>\\n    </form>\\n\\n\\n                \\n            </div>\\n        \\n    </article>\\n\\n</li>\\n                    \\n                        <li class=\"col-xs-6 col-sm-4 col-md-3 col-lg-3\">\\n\\n\\n\\n\\n\\n\\n    <article class=\"product_pod\">\\n        \\n            <div class=\"image_container\">\\n                \\n                    \\n                    <a href=\"catalogue/scott-pilgrims-precious-little-life-scott-pilgrim-1_987/index.html\"><img src=\"media/cache/94/b1/94b1b8b244bce9677c2f29ccc890d4d2.jpg\" alt=\"Scott Pilgrim&#39;s Precious Little Life (Scott Pilgrim #1)\" class=\"thumbnail\"></a>\\n                    \\n                \\n            </div>\\n        \\n\\n        \\n            \\n                <p class=\"star-rating Five\">\\n                    <i class=\"icon-star\"></i>\\n                    <i class=\"icon-star\"></i>\\n                    <i class=\"icon-star\"></i>\\n                    <i class=\"icon-star\"></i>\\n                    <i class=\"icon-star\"></i>\\n                </p>\\n            \\n        \\n\\n        \\n            <h3><a href=\"catalogue/scott-pilgrims-precious-little-life-scott-pilgrim-1_987/index.html\" title=\"Scott Pilgrim&#39;s Precious Little Life (Scott Pilgrim #1)\">Scott Pilgrim&#39;s Precious Little ...</a></h3>\\n        \\n\\n        \\n            <div class=\"product_price\">\\n                \\n\\n\\n\\n\\n\\n\\n    \\n        <p class=\"price_color\">\\xc2\\xa352.29</p>\\n    \\n\\n<p class=\"instock availability\">\\n    <i class=\"icon-ok\"></i>\\n    \\n        In stock\\n    \\n</p>\\n\\n                \\n                    \\n\\n\\n\\n\\n\\n\\n    \\n    <form>\\n        <button type=\"submit\" class=\"btn btn-primary btn-block\" data-loading-text=\"Adding...\">Add to basket</button>\\n    </form>\\n\\n\\n                \\n            </div>\\n        \\n    </article>\\n\\n</li>\\n                    \\n                        <li class=\"col-xs-6 col-sm-4 col-md-3 col-lg-3\">\\n\\n\\n\\n\\n\\n\\n    <article class=\"product_pod\">\\n        \\n            <div class=\"image_container\">\\n                \\n                    \\n                    <a href=\"catalogue/rip-it-up-and-start-again_986/index.html\"><img src=\"media/cache/81/c4/81c4a973364e17d01f217e1188253d5e.jpg\" alt=\"Rip it Up and Start Again\" class=\"thumbnail\"></a>\\n                    \\n                \\n            </div>\\n        \\n\\n        \\n            \\n                <p class=\"star-rating Five\">\\n                    <i class=\"icon-star\"></i>\\n                    <i class=\"icon-star\"></i>\\n                    <i class=\"icon-star\"></i>\\n                    <i class=\"icon-star\"></i>\\n                    <i class=\"icon-star\"></i>\\n                </p>\\n            \\n        \\n\\n        \\n            <h3><a href=\"catalogue/rip-it-up-and-start-again_986/index.html\" title=\"Rip it Up and Start Again\">Rip it Up and ...</a></h3>\\n        \\n\\n        \\n            <div class=\"product_price\">\\n                \\n\\n\\n\\n\\n\\n\\n    \\n        <p class=\"price_color\">\\xc2\\xa335.02</p>\\n    \\n\\n<p class=\"instock availability\">\\n    <i class=\"icon-ok\"></i>\\n    \\n        In stock\\n    \\n</p>\\n\\n                \\n                    \\n\\n\\n\\n\\n\\n\\n    \\n    <form>\\n        <button type=\"submit\" class=\"btn btn-primary btn-block\" data-loading-text=\"Adding...\">Add to basket</button>\\n    </form>\\n\\n\\n                \\n            </div>\\n        \\n    </article>\\n\\n</li>\\n                    \\n                        <li class=\"col-xs-6 col-sm-4 col-md-3 col-lg-3\">\\n\\n\\n\\n\\n\\n\\n    <article class=\"product_pod\">\\n        \\n            <div class=\"image_container\">\\n                \\n                    \\n                    <a href=\"catalogue/our-band-could-be-your-life-scenes-from-the-american-indie-underground-1981-1991_985/index.html\"><img src=\"media/cache/54/60/54607fe8945897cdcced0044103b10b6.jpg\" alt=\"Our Band Could Be Your Life: Scenes from the American Indie Underground, 1981-1991\" class=\"thumbnail\"></a>\\n                    \\n                \\n            </div>\\n        \\n\\n        \\n            \\n                <p class=\"star-rating Three\">\\n                    <i class=\"icon-star\"></i>\\n                    <i class=\"icon-star\"></i>\\n                    <i class=\"icon-star\"></i>\\n                    <i class=\"icon-star\"></i>\\n                    <i class=\"icon-star\"></i>\\n                </p>\\n            \\n        \\n\\n        \\n            <h3><a href=\"catalogue/our-band-could-be-your-life-scenes-from-the-american-indie-underground-1981-1991_985/index.html\" title=\"Our Band Could Be Your Life: Scenes from the American Indie Underground, 1981-1991\">Our Band Could Be ...</a></h3>\\n        \\n\\n        \\n            <div class=\"product_price\">\\n                \\n\\n\\n\\n\\n\\n\\n    \\n        <p class=\"price_color\">\\xc2\\xa357.25</p>\\n    \\n\\n<p class=\"instock availability\">\\n    <i class=\"icon-ok\"></i>\\n    \\n        In stock\\n    \\n</p>\\n\\n                \\n                    \\n\\n\\n\\n\\n\\n\\n    \\n    <form>\\n        <button type=\"submit\" class=\"btn btn-primary btn-block\" data-loading-text=\"Adding...\">Add to basket</button>\\n    </form>\\n\\n\\n                \\n            </div>\\n        \\n    </article>\\n\\n</li>\\n                    \\n                        <li class=\"col-xs-6 col-sm-4 col-md-3 col-lg-3\">\\n\\n\\n\\n\\n\\n\\n    <article class=\"product_pod\">\\n        \\n            <div class=\"image_container\">\\n                \\n                    \\n                    <a href=\"catalogue/olio_984/index.html\"><img src=\"media/cache/55/33/553310a7162dfbc2c6d19a84da0df9e1.jpg\" alt=\"Olio\" class=\"thumbnail\"></a>\\n                    \\n                \\n            </div>\\n        \\n\\n        \\n            \\n                <p class=\"star-rating One\">\\n                    <i class=\"icon-star\"></i>\\n                    <i class=\"icon-star\"></i>\\n                    <i class=\"icon-star\"></i>\\n                    <i class=\"icon-star\"></i>\\n                    <i class=\"icon-star\"></i>\\n                </p>\\n            \\n        \\n\\n        \\n            <h3><a href=\"catalogue/olio_984/index.html\" title=\"Olio\">Olio</a></h3>\\n        \\n\\n        \\n            <div class=\"product_price\">\\n                \\n\\n\\n\\n\\n\\n\\n    \\n        <p class=\"price_color\">\\xc2\\xa323.88</p>\\n    \\n\\n<p class=\"instock availability\">\\n    <i class=\"icon-ok\"></i>\\n    \\n        In stock\\n    \\n</p>\\n\\n                \\n                    \\n\\n\\n\\n\\n\\n\\n    \\n    <form>\\n        <button type=\"submit\" class=\"btn btn-primary btn-block\" data-loading-text=\"Adding...\">Add to basket</button>\\n    </form>\\n\\n\\n                \\n            </div>\\n        \\n    </article>\\n\\n</li>\\n                    \\n                        <li class=\"col-xs-6 col-sm-4 col-md-3 col-lg-3\">\\n\\n\\n\\n\\n\\n\\n    <article class=\"product_pod\">\\n        \\n            <div class=\"image_container\">\\n                \\n                    \\n                    <a href=\"catalogue/mesaerion-the-best-science-fiction-stories-1800-1849_983/index.html\"><img src=\"media/cache/09/a3/09a3aef48557576e1a85ba7efea8ecb7.jpg\" alt=\"Mesaerion: The Best Science Fiction Stories 1800-1849\" class=\"thumbnail\"></a>\\n                    \\n                \\n            </div>\\n        \\n\\n        \\n            \\n                <p class=\"star-rating One\">\\n                    <i class=\"icon-star\"></i>\\n                    <i class=\"icon-star\"></i>\\n                    <i class=\"icon-star\"></i>\\n                    <i class=\"icon-star\"></i>\\n                    <i class=\"icon-star\"></i>\\n                </p>\\n            \\n        \\n\\n        \\n            <h3><a href=\"catalogue/mesaerion-the-best-science-fiction-stories-1800-1849_983/index.html\" title=\"Mesaerion: The Best Science Fiction Stories 1800-1849\">Mesaerion: The Best Science ...</a></h3>\\n        \\n\\n        \\n            <div class=\"product_price\">\\n                \\n\\n\\n\\n\\n\\n\\n    \\n        <p class=\"price_color\">\\xc2\\xa337.59</p>\\n    \\n\\n<p class=\"instock availability\">\\n    <i class=\"icon-ok\"></i>\\n    \\n        In stock\\n    \\n</p>\\n\\n                \\n                    \\n\\n\\n\\n\\n\\n\\n    \\n    <form>\\n        <button type=\"submit\" class=\"btn btn-primary btn-block\" data-loading-text=\"Adding...\">Add to basket</button>\\n    </form>\\n\\n\\n                \\n            </div>\\n        \\n    </article>\\n\\n</li>\\n                    \\n                        <li class=\"col-xs-6 col-sm-4 col-md-3 col-lg-3\">\\n\\n\\n\\n\\n\\n\\n    <article class=\"product_pod\">\\n        \\n            <div class=\"image_container\">\\n                \\n                    \\n                    <a href=\"catalogue/libertarianism-for-beginners_982/index.html\"><img src=\"media/cache/0b/bc/0bbcd0a6f4bcd81ccb1049a52736406e.jpg\" alt=\"Libertarianism for Beginners\" class=\"thumbnail\"></a>\\n                    \\n                \\n            </div>\\n        \\n\\n        \\n            \\n                <p class=\"star-rating Two\">\\n                    <i class=\"icon-star\"></i>\\n                    <i class=\"icon-star\"></i>\\n                    <i class=\"icon-star\"></i>\\n                    <i class=\"icon-star\"></i>\\n                    <i class=\"icon-star\"></i>\\n                </p>\\n            \\n        \\n\\n        \\n            <h3><a href=\"catalogue/libertarianism-for-beginners_982/index.html\" title=\"Libertarianism for Beginners\">Libertarianism for Beginners</a></h3>\\n        \\n\\n        \\n            <div class=\"product_price\">\\n                \\n\\n\\n\\n\\n\\n\\n    \\n        <p class=\"price_color\">\\xc2\\xa351.33</p>\\n    \\n\\n<p class=\"instock availability\">\\n    <i class=\"icon-ok\"></i>\\n    \\n        In stock\\n    \\n</p>\\n\\n                \\n                    \\n\\n\\n\\n\\n\\n\\n    \\n    <form>\\n        <button type=\"submit\" class=\"btn btn-primary btn-block\" data-loading-text=\"Adding...\">Add to basket</button>\\n    </form>\\n\\n\\n                \\n            </div>\\n        \\n    </article>\\n\\n</li>\\n                    \\n                        <li class=\"col-xs-6 col-sm-4 col-md-3 col-lg-3\">\\n\\n\\n\\n\\n\\n\\n    <article class=\"product_pod\">\\n        \\n            <div class=\"image_container\">\\n                \\n                    \\n                    <a href=\"catalogue/its-only-the-himalayas_981/index.html\"><img src=\"media/cache/27/a5/27a53d0bb95bdd88288eaf66c9230d7e.jpg\" alt=\"It&#39;s Only the Himalayas\" class=\"thumbnail\"></a>\\n                    \\n                \\n            </div>\\n        \\n\\n        \\n            \\n                <p class=\"star-rating Two\">\\n                    <i class=\"icon-star\"></i>\\n                    <i class=\"icon-star\"></i>\\n                    <i class=\"icon-star\"></i>\\n                    <i class=\"icon-star\"></i>\\n                    <i class=\"icon-star\"></i>\\n                </p>\\n            \\n        \\n\\n        \\n            <h3><a href=\"catalogue/its-only-the-himalayas_981/index.html\" title=\"It&#39;s Only the Himalayas\">It&#39;s Only the Himalayas</a></h3>\\n        \\n\\n        \\n            <div class=\"product_price\">\\n                \\n\\n\\n\\n\\n\\n\\n    \\n        <p class=\"price_color\">\\xc2\\xa345.17</p>\\n    \\n\\n<p class=\"instock availability\">\\n    <i class=\"icon-ok\"></i>\\n    \\n        In stock\\n    \\n</p>\\n\\n                \\n                    \\n\\n\\n\\n\\n\\n\\n    \\n    <form>\\n        <button type=\"submit\" class=\"btn btn-primary btn-block\" data-loading-text=\"Adding...\">Add to basket</button>\\n    </form>\\n\\n\\n                \\n            </div>\\n        \\n    </article>\\n\\n</li>\\n                    \\n                </ol>\\n                \\n\\n\\n\\n    <div>\\n        <ul class=\"pager\">\\n            \\n            <li class=\"current\">\\n            \\n                Page 1 of 50\\n            \\n            </li>\\n            \\n                <li class=\"next\"><a href=\"catalogue/page-2.html\">next</a></li>\\n            \\n        </ul>\\n    </div>\\n\\n\\n            </div>\\n        </section>\\n    \\n\\n\\n            </div>\\n\\n        </div><!-- /row -->\\n    </div><!-- /page_inner -->\\n</div><!-- /container-fluid -->\\n\\n\\n    \\n<footer class=\"footer container-fluid\">\\n    \\n        \\n    \\n</footer>\\n\\n\\n        \\n        \\n  \\n            <!-- jQuery -->\\n            <script src=\"http://ajax.googleapis.com/ajax/libs/jquery/1.9.1/jquery.min.js\"></script>\\n            <script>window.jQuery || document.write(\\'<script src=\"static/oscar/js/jquery/jquery-1.9.1.min.js\"><\\\\/script>\\')</script>\\n        \\n  \\n\\n\\n        \\n        \\n    \\n        \\n    <!-- Twitter Bootstrap -->\\n    <script type=\"text/javascript\" src=\"static/oscar/js/bootstrap3/bootstrap.min.js\"></script>\\n    <!-- Oscar -->\\n    <script src=\"static/oscar/js/oscar/ui.js\" type=\"text/javascript\" charset=\"utf-8\"></script>\\n\\n    <script src=\"static/oscar/js/bootstrap-datetimepicker/bootstrap-datetimepicker.js\" type=\"text/javascript\" charset=\"utf-8\"></script>\\n    <script src=\"static/oscar/js/bootstrap-datetimepicker/locales/bootstrap-datetimepicker.all.js\" type=\"text/javascript\" charset=\"utf-8\"></script>\\n\\n\\n        \\n        \\n    \\n\\n    \\n\\n\\n        \\n        <script type=\"text/javascript\">\\n            $(function() {\\n                \\n    \\n    \\n    oscar.init();\\n\\n    oscar.search.init();\\n\\n            });\\n        </script>\\n\\n        \\n        <!-- Version: N/A -->\\n        \\n    </body>\\n</html>\\n'"
      ]
     },
     "execution_count": 39,
     "metadata": {},
     "output_type": "execute_result"
    }
   ],
   "source": [
    "list_ordered = soup2.find('ol')\n",
    "articles = list_ordered.find_all('article', class_='product_pod')\n",
    "\n",
    "articles2 = soup1.find_all('h3')\n",
    "book = soup1.find('a')['href']\n",
    "requests.get(url1+book)\n",
    "# articles"
   ]
  },
  {
   "cell_type": "markdown",
   "metadata": {},
   "source": [
    "##### Extract page of book per page\n",
    "(take time because it loops each bookpage per page)"
   ]
  },
  {
   "cell_type": "code",
   "execution_count": 94,
   "metadata": {},
   "outputs": [
    {
     "data": {
      "text/html": [
       "<div>\n",
       "<style scoped>\n",
       "    .dataframe tbody tr th:only-of-type {\n",
       "        vertical-align: middle;\n",
       "    }\n",
       "\n",
       "    .dataframe tbody tr th {\n",
       "        vertical-align: top;\n",
       "    }\n",
       "\n",
       "    .dataframe thead th {\n",
       "        text-align: right;\n",
       "    }\n",
       "</style>\n",
       "<table border=\"1\" class=\"dataframe\">\n",
       "  <thead>\n",
       "    <tr style=\"text-align: right;\">\n",
       "      <th></th>\n",
       "      <th>Title</th>\n",
       "      <th>Price</th>\n",
       "      <th>Stock</th>\n",
       "      <th>Genre</th>\n",
       "      <th>Rating</th>\n",
       "    </tr>\n",
       "  </thead>\n",
       "  <tbody>\n",
       "    <tr>\n",
       "      <th>0</th>\n",
       "      <td>A Light in the Attic</td>\n",
       "      <td>£51.77</td>\n",
       "      <td>In stock (22 available)</td>\n",
       "      <td>Poetry</td>\n",
       "      <td>Three</td>\n",
       "    </tr>\n",
       "    <tr>\n",
       "      <th>1</th>\n",
       "      <td>Tipping the Velvet</td>\n",
       "      <td>£53.74</td>\n",
       "      <td>In stock (20 available)</td>\n",
       "      <td>Historical Fiction</td>\n",
       "      <td>One</td>\n",
       "    </tr>\n",
       "    <tr>\n",
       "      <th>2</th>\n",
       "      <td>Soumission</td>\n",
       "      <td>£50.10</td>\n",
       "      <td>In stock (20 available)</td>\n",
       "      <td>Fiction</td>\n",
       "      <td>One</td>\n",
       "    </tr>\n",
       "    <tr>\n",
       "      <th>3</th>\n",
       "      <td>Sharp Objects</td>\n",
       "      <td>£47.82</td>\n",
       "      <td>In stock (20 available)</td>\n",
       "      <td>Mystery</td>\n",
       "      <td>Four</td>\n",
       "    </tr>\n",
       "    <tr>\n",
       "      <th>4</th>\n",
       "      <td>Sapiens: A Brief History of Humankind</td>\n",
       "      <td>£54.23</td>\n",
       "      <td>In stock (20 available)</td>\n",
       "      <td>History</td>\n",
       "      <td>Five</td>\n",
       "    </tr>\n",
       "    <tr>\n",
       "      <th>...</th>\n",
       "      <td>...</td>\n",
       "      <td>...</td>\n",
       "      <td>...</td>\n",
       "      <td>...</td>\n",
       "      <td>...</td>\n",
       "    </tr>\n",
       "    <tr>\n",
       "      <th>995</th>\n",
       "      <td>Alice in Wonderland (Alice's Adventures in Won...</td>\n",
       "      <td>£55.53</td>\n",
       "      <td>In stock (1 available)</td>\n",
       "      <td>Classics</td>\n",
       "      <td>One</td>\n",
       "    </tr>\n",
       "    <tr>\n",
       "      <th>996</th>\n",
       "      <td>Ajin: Demi-Human, Volume 1 (Ajin: Demi-Human #1)</td>\n",
       "      <td>£57.06</td>\n",
       "      <td>In stock (1 available)</td>\n",
       "      <td>Sequential Art</td>\n",
       "      <td>Four</td>\n",
       "    </tr>\n",
       "    <tr>\n",
       "      <th>997</th>\n",
       "      <td>A Spy's Devotion (The Regency Spies of London #1)</td>\n",
       "      <td>£16.97</td>\n",
       "      <td>In stock (1 available)</td>\n",
       "      <td>Historical Fiction</td>\n",
       "      <td>Five</td>\n",
       "    </tr>\n",
       "    <tr>\n",
       "      <th>998</th>\n",
       "      <td>1st to Die (Women's Murder Club #1)</td>\n",
       "      <td>£53.98</td>\n",
       "      <td>In stock (1 available)</td>\n",
       "      <td>Mystery</td>\n",
       "      <td>One</td>\n",
       "    </tr>\n",
       "    <tr>\n",
       "      <th>999</th>\n",
       "      <td>1,000 Places to See Before You Die</td>\n",
       "      <td>£26.08</td>\n",
       "      <td>In stock (1 available)</td>\n",
       "      <td>Travel</td>\n",
       "      <td>Five</td>\n",
       "    </tr>\n",
       "  </tbody>\n",
       "</table>\n",
       "<p>1000 rows × 5 columns</p>\n",
       "</div>"
      ],
      "text/plain": [
       "                                                 Title   Price  \\\n",
       "0                                 A Light in the Attic  £51.77   \n",
       "1                                   Tipping the Velvet  £53.74   \n",
       "2                                           Soumission  £50.10   \n",
       "3                                        Sharp Objects  £47.82   \n",
       "4                Sapiens: A Brief History of Humankind  £54.23   \n",
       "..                                                 ...     ...   \n",
       "995  Alice in Wonderland (Alice's Adventures in Won...  £55.53   \n",
       "996   Ajin: Demi-Human, Volume 1 (Ajin: Demi-Human #1)  £57.06   \n",
       "997  A Spy's Devotion (The Regency Spies of London #1)  £16.97   \n",
       "998                1st to Die (Women's Murder Club #1)  £53.98   \n",
       "999                 1,000 Places to See Before You Die  £26.08   \n",
       "\n",
       "                       Stock               Genre Rating  \n",
       "0    In stock (22 available)              Poetry  Three  \n",
       "1    In stock (20 available)  Historical Fiction    One  \n",
       "2    In stock (20 available)             Fiction    One  \n",
       "3    In stock (20 available)             Mystery   Four  \n",
       "4    In stock (20 available)             History   Five  \n",
       "..                       ...                 ...    ...  \n",
       "995   In stock (1 available)            Classics    One  \n",
       "996   In stock (1 available)      Sequential Art   Four  \n",
       "997   In stock (1 available)  Historical Fiction   Five  \n",
       "998   In stock (1 available)             Mystery    One  \n",
       "999   In stock (1 available)              Travel   Five  \n",
       "\n",
       "[1000 rows x 5 columns]"
      ]
     },
     "execution_count": 94,
     "metadata": {},
     "output_type": "execute_result"
    }
   ],
   "source": [
    "books_perpage = []\n",
    "url1 = 'https://books.toscrape.com/catalogue/'\n",
    "\n",
    "for h in range(1,51):\n",
    "  outerpage_url = f'https://books.toscrape.com/catalogue/page-{h}.html'\n",
    "  outerpage_request = requests.get(outerpage_url)\n",
    "  outerpage_soup = BeautifulSoup(outerpage_request.content, 'html.parser')\n",
    "\n",
    "  articles2 = outerpage_soup.find_all('h3')\n",
    "  start = time.time()\n",
    "  book_extracted = 0\n",
    "\n",
    "  for book in articles2:\n",
    "    page_page = book.find('a')['href']\n",
    "    page_request = requests.get(url1+page_page)\n",
    "    page_soup = BeautifulSoup(page_request.content, 'html.parser')\n",
    "\n",
    "    book_title = page_soup.find('h1').text\n",
    "    book_price = page_soup.find('p', class_='price_color').text.strip()\n",
    "    book_rating = page_soup.find('p', class_='star-rating')['class'][1]\n",
    "    book_genre = page_soup.find('ul', class_='breadcrumb').find_all('a')[2].text.strip()\n",
    "    book_stock = page_soup.find('p', class_='instock availability').text.strip()\n",
    "\n",
    "    end = time.time()\n",
    "    total_time = (end-start)/60.0\n",
    "\n",
    "    # append into empty list\n",
    "    books_perpage.append([book_title, book_price, book_stock, book_genre, book_rating])\n",
    "\n",
    "  # print(book_title)\n",
    "  # print(book_price)\n",
    "  # print(book_rating)\n",
    "  # print(book_genre)\n",
    "  # print(book_stock)\n",
    "\n",
    "# add to dataframe\n",
    "pd.DataFrame(books_perpage, columns=['Title', 'Price', 'Stock', 'Genre', 'Rating'])\n"
   ]
  },
  {
   "cell_type": "code",
   "execution_count": 96,
   "metadata": {},
   "outputs": [],
   "source": [
    "# save scraped data to excel\n",
    "pd.DataFrame(books_perpage, columns=['Title', 'Price', 'Stock', 'Genre', 'Rating']).to_excel('BooksToCrape01.xlsx',index=False)"
   ]
  },
  {
   "cell_type": "code",
   "execution_count": 8,
   "metadata": {},
   "outputs": [
    {
     "name": "stdout",
     "output_type": "stream",
     "text": [
      "None\n",
      "None\n",
      "None\n",
      "None\n",
      "None\n",
      "None\n",
      "None\n",
      "None\n",
      "None\n",
      "None\n",
      "None\n",
      "None\n",
      "None\n",
      "None\n",
      "None\n",
      "None\n",
      "None\n",
      "None\n",
      "None\n",
      "None\n"
     ]
    }
   ],
   "source": [
    "for i in articles:\n",
    "  # Method #1\n",
    "  # title = i.find('img').attrs['alt']\n",
    "  # star = i.find('p')['class'][1]\n",
    "  # price = i.find('p', class_='price_color').text\n",
    "\n",
    "  # Method #2\n",
    "  title = i.find('h3').text\n",
    "  star = i.find('p',class_='star-rating')['class'][1]\n",
    "  price = i.find('p', class_='price_color').text.strip()\n",
    "  stock = i.find('p', class_='instock availability').text.strip()\n",
    "  genre = i.find('li', class_='active')\n",
    "\n",
    "  # print(title)\n",
    "  # print(star)\n",
    "  # print(price)\n",
    "  print(genre)\n",
    "  # print(stock)\n"
   ]
  },
  {
   "cell_type": "markdown",
   "metadata": {},
   "source": [
    "##### Extract book per page\n",
    "(take less time because it scrape per page only)"
   ]
  },
  {
   "cell_type": "code",
   "execution_count": 112,
   "metadata": {},
   "outputs": [
    {
     "data": {
      "text/html": [
       "<div>\n",
       "<style scoped>\n",
       "    .dataframe tbody tr th:only-of-type {\n",
       "        vertical-align: middle;\n",
       "    }\n",
       "\n",
       "    .dataframe tbody tr th {\n",
       "        vertical-align: top;\n",
       "    }\n",
       "\n",
       "    .dataframe thead th {\n",
       "        text-align: right;\n",
       "    }\n",
       "</style>\n",
       "<table border=\"1\" class=\"dataframe\">\n",
       "  <thead>\n",
       "    <tr style=\"text-align: right;\">\n",
       "      <th></th>\n",
       "      <th>Title</th>\n",
       "      <th>Price</th>\n",
       "      <th>Ratings</th>\n",
       "      <th>Stock</th>\n",
       "    </tr>\n",
       "  </thead>\n",
       "  <tbody>\n",
       "    <tr>\n",
       "      <th>0</th>\n",
       "      <td>A Light in the Attic</td>\n",
       "      <td>£51.77</td>\n",
       "      <td>Three</td>\n",
       "      <td>In stock</td>\n",
       "    </tr>\n",
       "    <tr>\n",
       "      <th>1</th>\n",
       "      <td>Tipping the Velvet</td>\n",
       "      <td>£53.74</td>\n",
       "      <td>One</td>\n",
       "      <td>In stock</td>\n",
       "    </tr>\n",
       "    <tr>\n",
       "      <th>2</th>\n",
       "      <td>Soumission</td>\n",
       "      <td>£50.10</td>\n",
       "      <td>One</td>\n",
       "      <td>In stock</td>\n",
       "    </tr>\n",
       "    <tr>\n",
       "      <th>3</th>\n",
       "      <td>Sharp Objects</td>\n",
       "      <td>£47.82</td>\n",
       "      <td>Four</td>\n",
       "      <td>In stock</td>\n",
       "    </tr>\n",
       "    <tr>\n",
       "      <th>4</th>\n",
       "      <td>Sapiens: A Brief History of Humankind</td>\n",
       "      <td>£54.23</td>\n",
       "      <td>Five</td>\n",
       "      <td>In stock</td>\n",
       "    </tr>\n",
       "    <tr>\n",
       "      <th>...</th>\n",
       "      <td>...</td>\n",
       "      <td>...</td>\n",
       "      <td>...</td>\n",
       "      <td>...</td>\n",
       "    </tr>\n",
       "    <tr>\n",
       "      <th>995</th>\n",
       "      <td>Alice in Wonderland (Alice's Adventures in Won...</td>\n",
       "      <td>£55.53</td>\n",
       "      <td>One</td>\n",
       "      <td>In stock</td>\n",
       "    </tr>\n",
       "    <tr>\n",
       "      <th>996</th>\n",
       "      <td>Ajin: Demi-Human, Volume 1 (Ajin: Demi-Human #1)</td>\n",
       "      <td>£57.06</td>\n",
       "      <td>Four</td>\n",
       "      <td>In stock</td>\n",
       "    </tr>\n",
       "    <tr>\n",
       "      <th>997</th>\n",
       "      <td>A Spy's Devotion (The Regency Spies of London #1)</td>\n",
       "      <td>£16.97</td>\n",
       "      <td>Five</td>\n",
       "      <td>In stock</td>\n",
       "    </tr>\n",
       "    <tr>\n",
       "      <th>998</th>\n",
       "      <td>1st to Die (Women's Murder Club #1)</td>\n",
       "      <td>£53.98</td>\n",
       "      <td>One</td>\n",
       "      <td>In stock</td>\n",
       "    </tr>\n",
       "    <tr>\n",
       "      <th>999</th>\n",
       "      <td>1,000 Places to See Before You Die</td>\n",
       "      <td>£26.08</td>\n",
       "      <td>Five</td>\n",
       "      <td>In stock</td>\n",
       "    </tr>\n",
       "  </tbody>\n",
       "</table>\n",
       "<p>1000 rows × 4 columns</p>\n",
       "</div>"
      ],
      "text/plain": [
       "                                                 Title   Price Ratings  \\\n",
       "0                                 A Light in the Attic  £51.77   Three   \n",
       "1                                   Tipping the Velvet  £53.74     One   \n",
       "2                                           Soumission  £50.10     One   \n",
       "3                                        Sharp Objects  £47.82    Four   \n",
       "4                Sapiens: A Brief History of Humankind  £54.23    Five   \n",
       "..                                                 ...     ...     ...   \n",
       "995  Alice in Wonderland (Alice's Adventures in Won...  £55.53     One   \n",
       "996   Ajin: Demi-Human, Volume 1 (Ajin: Demi-Human #1)  £57.06    Four   \n",
       "997  A Spy's Devotion (The Regency Spies of London #1)  £16.97    Five   \n",
       "998                1st to Die (Women's Murder Club #1)  £53.98     One   \n",
       "999                 1,000 Places to See Before You Die  £26.08    Five   \n",
       "\n",
       "        Stock  \n",
       "0    In stock  \n",
       "1    In stock  \n",
       "2    In stock  \n",
       "3    In stock  \n",
       "4    In stock  \n",
       "..        ...  \n",
       "995  In stock  \n",
       "996  In stock  \n",
       "997  In stock  \n",
       "998  In stock  \n",
       "999  In stock  \n",
       "\n",
       "[1000 rows x 4 columns]"
      ]
     },
     "execution_count": 112,
     "metadata": {},
     "output_type": "execute_result"
    }
   ],
   "source": [
    "books = []\n",
    "for j in range(1,51):\n",
    "  page_url = f'https://books.toscrape.com/catalogue/page-{j}.html'\n",
    "  page_request = requests.get(page_url)\n",
    "  page_request = page_request.content\n",
    "\n",
    "  # parse html content\n",
    "  page_soup = BeautifulSoup(page_request,'html.parser')\n",
    "\n",
    "  page_list = page_soup.find('ol')\n",
    "  page_article = page_list.find_all('article', class_='product_pod')\n",
    "  for page in page_article:\n",
    "    book_title = page.find('img').attrs['alt']\n",
    "    book_rating = page.find('p')['class'][1]\n",
    "    book_price = page.find('p', class_='price_color').text\n",
    "    book_stock = page.find('p', class_='instock availability').text.strip()\n",
    "\n",
    "    books.append([book_title, book_price, book_rating, book_stock])\n",
    "# print(books)\n",
    "pd.DataFrame(books, columns=['Title','Price','Ratings', 'Stock'])"
   ]
  },
  {
   "cell_type": "code",
   "execution_count": 114,
   "metadata": {},
   "outputs": [],
   "source": [
    "# save scraped data to excel\n",
    "pd.DataFrame(books, columns=['Title','Price','Ratings', 'Stock']).to_excel('BooksToCrape02.xlsx',index=False)"
   ]
  },
  {
   "cell_type": "code",
   "execution_count": 120,
   "metadata": {},
   "outputs": [],
   "source": [
    "b1 = 'BooksToCrape01'\n",
    "b2 = 'BooksToCrape02'\n",
    "\n",
    "# load scraped file\n",
    "df_01 = pd.read_excel(rf'C:\\Users\\wareh\\Documents\\VS Code Folders\\Portfolio Project\\{b1}.xlsx')"
   ]
  },
  {
   "cell_type": "code",
   "execution_count": 130,
   "metadata": {},
   "outputs": [
    {
     "name": "stdout",
     "output_type": "stream",
     "text": [
      "<class 'pandas.core.frame.DataFrame'>\n",
      "RangeIndex: 1000 entries, 0 to 999\n",
      "Data columns (total 5 columns):\n",
      " #   Column  Non-Null Count  Dtype \n",
      "---  ------  --------------  ----- \n",
      " 0   Title   1000 non-null   object\n",
      " 1   Price   1000 non-null   object\n",
      " 2   Stock   1000 non-null   object\n",
      " 3   Genre   1000 non-null   object\n",
      " 4   Rating  1000 non-null   object\n",
      "dtypes: object(5)\n",
      "memory usage: 39.2+ KB\n"
     ]
    }
   ],
   "source": [
    "df_01.info()"
   ]
  },
  {
   "cell_type": "code",
   "execution_count": 142,
   "metadata": {},
   "outputs": [
    {
     "data": {
      "text/html": [
       "<div>\n",
       "<style scoped>\n",
       "    .dataframe tbody tr th:only-of-type {\n",
       "        vertical-align: middle;\n",
       "    }\n",
       "\n",
       "    .dataframe tbody tr th {\n",
       "        vertical-align: top;\n",
       "    }\n",
       "\n",
       "    .dataframe thead th {\n",
       "        text-align: right;\n",
       "    }\n",
       "</style>\n",
       "<table border=\"1\" class=\"dataframe\">\n",
       "  <thead>\n",
       "    <tr style=\"text-align: right;\">\n",
       "      <th></th>\n",
       "      <th>Genre</th>\n",
       "      <th>Title</th>\n",
       "      <th>Price</th>\n",
       "      <th>Stock</th>\n",
       "      <th>Rating</th>\n",
       "    </tr>\n",
       "  </thead>\n",
       "  <tbody>\n",
       "    <tr>\n",
       "      <th>14</th>\n",
       "      <td>Default</td>\n",
       "      <td>152</td>\n",
       "      <td>152</td>\n",
       "      <td>152</td>\n",
       "      <td>152</td>\n",
       "    </tr>\n",
       "    <tr>\n",
       "      <th>28</th>\n",
       "      <td>Nonfiction</td>\n",
       "      <td>110</td>\n",
       "      <td>110</td>\n",
       "      <td>110</td>\n",
       "      <td>110</td>\n",
       "    </tr>\n",
       "    <tr>\n",
       "      <th>41</th>\n",
       "      <td>Sequential Art</td>\n",
       "      <td>75</td>\n",
       "      <td>75</td>\n",
       "      <td>75</td>\n",
       "      <td>75</td>\n",
       "    </tr>\n",
       "    <tr>\n",
       "      <th>1</th>\n",
       "      <td>Add a comment</td>\n",
       "      <td>67</td>\n",
       "      <td>67</td>\n",
       "      <td>67</td>\n",
       "      <td>67</td>\n",
       "    </tr>\n",
       "    <tr>\n",
       "      <th>17</th>\n",
       "      <td>Fiction</td>\n",
       "      <td>65</td>\n",
       "      <td>65</td>\n",
       "      <td>65</td>\n",
       "      <td>65</td>\n",
       "    </tr>\n",
       "  </tbody>\n",
       "</table>\n",
       "</div>"
      ],
      "text/plain": [
       "             Genre  Title  Price  Stock  Rating\n",
       "14         Default    152    152    152     152\n",
       "28      Nonfiction    110    110    110     110\n",
       "41  Sequential Art     75     75     75      75\n",
       "1    Add a comment     67     67     67      67\n",
       "17         Fiction     65     65     65      65"
      ]
     },
     "execution_count": 142,
     "metadata": {},
     "output_type": "execute_result"
    }
   ],
   "source": [
    "df_01_05 = df_01.groupby('Genre').count().reset_index().sort_values(by='Title', ascending=False) [:5]\n",
    "df_01_05"
   ]
  },
  {
   "cell_type": "markdown",
   "metadata": {},
   "source": [
    "#### <hr>"
   ]
  },
  {
   "cell_type": "markdown",
   "metadata": {},
   "source": [
    "### "
   ]
  },
  {
   "cell_type": "markdown",
   "metadata": {},
   "source": [
    "### "
   ]
  }
 ],
 "metadata": {
  "kernelspec": {
   "display_name": "Python 3",
   "language": "python",
   "name": "python3"
  },
  "language_info": {
   "codemirror_mode": {
    "name": "ipython",
    "version": 3
   },
   "file_extension": ".py",
   "mimetype": "text/x-python",
   "name": "python",
   "nbconvert_exporter": "python",
   "pygments_lexer": "ipython3",
   "version": "3.10.11"
  }
 },
 "nbformat": 4,
 "nbformat_minor": 2
}
